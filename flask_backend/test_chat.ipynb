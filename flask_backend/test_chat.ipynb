{
 "cells": [
  {
   "cell_type": "code",
   "execution_count": 1,
   "metadata": {},
   "outputs": [],
   "source": [
    "from report_from_transcript import chat_medical_transcription"
   ]
  },
  {
   "cell_type": "code",
   "execution_count": 2,
   "metadata": {},
   "outputs": [],
   "source": [
    "data = open('raw.txt', 'r').read()"
   ]
  },
  {
   "cell_type": "code",
   "execution_count": 3,
   "metadata": {},
   "outputs": [
    {
     "name": "stdout",
     "output_type": "stream",
     "text": [
      "Medical Report\n",
      "\n",
      "Consultation Interventional Radiology on dd.mm.yyy\n",
      "\n",
      "Clinical Information:\n",
      "Consultation Uterine Fibroids, First Presentation, Myoma Embolization\n",
      "\n",
      "Question:\n",
      "Therapy\n",
      "\n",
      "Previous Examinations:\n",
      "None\n",
      "\n",
      "Findings:\n",
      "History:\n",
      "The patient has been suffering from uterine fibroids for years. She has been experiencing increasing lower abdominal pain, hypermenorrhea, dyspareunia, rectal pain, and bladder pain for about a year. The pain is significantly affecting her quality of life. The patient has completed her family planning (1 child), but wishes to undergo uterine-preserving therapy. The patient has limited knowledge of German and no knowledge of English. Her son can speak English and is present to assist with translation.\n",
      "\n",
      "Previous Examinations:\n",
      "MRI on dd.mm.yyy:\n",
      "Transmural uterine fibroid measuring up to 4.5 cm and several smaller ones.\n",
      "\n",
      "Treatment Options:\n",
      "The patient was informed of the following treatment options: hysterectomy, myomectomy, and myoma embolization. The patient has not yet decided on myoma embolization. In a detailed discussion lasting approximately 45 minutes, the patient was informed of the success rates and risks associated with the procedure. The patient fully understood the procedure and its potential risks, including life-altering circumstances, and has given written and verbal consent for the procedure.\n",
      "\n",
      "Assessment:\n",
      "Due to the high level of discomfort and reduced quality of life caused by uterine fibroids, there is an indication for therapy. After a detailed discussion of the possible treatment options, the patient has not yet decided on myoma embolization. However, the patient has given written and verbal consent for the procedure after being fully informed of the procedure and its potential risks.\n"
     ]
    }
   ],
   "source": [
    "report = chat_medical_transcription(data)\n",
    "print(report)"
   ]
  },
  {
   "cell_type": "code",
   "execution_count": null,
   "metadata": {},
   "outputs": [],
   "source": []
  }
 ],
 "metadata": {
  "kernelspec": {
   "display_name": "general",
   "language": "python",
   "name": "python3"
  },
  "language_info": {
   "codemirror_mode": {
    "name": "ipython",
    "version": 3
   },
   "file_extension": ".py",
   "mimetype": "text/x-python",
   "name": "python",
   "nbconvert_exporter": "python",
   "pygments_lexer": "ipython3",
   "version": "3.10.11"
  },
  "orig_nbformat": 4
 },
 "nbformat": 4,
 "nbformat_minor": 2
}
